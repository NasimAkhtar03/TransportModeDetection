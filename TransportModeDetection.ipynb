{
 "cells": 

  {
   "cell_type": "markdown",
   "metadata": {},
   "source": [
    "### Import libraries and packages"
   ]
  },
  {
   "cell_type": "code",
   "execution_count": 1,
   "metadata": {},
   "outputs": [],
   "source": [
    "import pandas as pd\n",
    "import os\n",
    "import numpy as np\n",
    "import timeit\n",
    "import matplotlib.pyplot as plt\n",
    "from array import *\n",
    "import datetime\n",
    "import seaborn as sns"
   ]
  },
  {
   "cell_type": "code",
   "execution_count": 2,
   "metadata": {},
   "outputs": [
    {
     "data": {
      "text/html": [
       "<div>\n",
       "<style scoped>\n",
       "    .dataframe tbody tr th:only-of-type {\n",
       "        vertical-align: middle;\n",
       "    }\n",
       "\n",
       "    .dataframe tbody tr th {\n",
       "        vertical-align: top;\n",
       "    }\n",
       "\n",
       "    .dataframe thead th {\n",
       "        text-align: right;\n",
       "    }\n",
       "</style>\n",
       "<table border=\"1\" class=\"dataframe\">\n",
       "  <thead>\n",
       "    <tr style=\"text-align: right;\">\n",
       "      <th></th>\n",
       "      <th>user</th>\n",
       "      <th>timestamp</th>\n",
       "      <th>x</th>\n",
       "      <th>y</th>\n",
       "      <th>z</th>\n",
       "      <th>class</th>\n",
       "    </tr>\n",
       "  </thead>\n",
       "  <tbody>\n",
       "    <tr>\n",
       "      <td>0</td>\n",
       "      <td>a2d80ed662f34d32951eb1c6ed076c313e358b73</td>\n",
       "      <td>2018-06-04 16:26:55.053</td>\n",
       "      <td>0.78</td>\n",
       "      <td>-9.13</td>\n",
       "      <td>-3.74</td>\n",
       "      <td>bus</td>\n",
       "    </tr>\n",
       "    <tr>\n",
       "      <td>1</td>\n",
       "      <td>a2d80ed662f34d32951eb1c6ed076c313e358b73</td>\n",
       "      <td>2018-06-04 16:26:55.111</td>\n",
       "      <td>0.79</td>\n",
       "      <td>-9.11</td>\n",
       "      <td>-3.75</td>\n",
       "      <td>bus</td>\n",
       "    </tr>\n",
       "    <tr>\n",
       "      <td>2</td>\n",
       "      <td>a2d80ed662f34d32951eb1c6ed076c313e358b73</td>\n",
       "      <td>2018-06-04 16:26:55.169</td>\n",
       "      <td>0.80</td>\n",
       "      <td>-9.12</td>\n",
       "      <td>-3.75</td>\n",
       "      <td>bus</td>\n",
       "    </tr>\n",
       "    <tr>\n",
       "      <td>3</td>\n",
       "      <td>a2d80ed662f34d32951eb1c6ed076c313e358b73</td>\n",
       "      <td>2018-06-04 16:26:55.228</td>\n",
       "      <td>0.78</td>\n",
       "      <td>-9.14</td>\n",
       "      <td>-3.76</td>\n",
       "      <td>bus</td>\n",
       "    </tr>\n",
       "    <tr>\n",
       "      <td>4</td>\n",
       "      <td>a2d80ed662f34d32951eb1c6ed076c313e358b73</td>\n",
       "      <td>2018-06-04 16:26:55.286</td>\n",
       "      <td>0.83</td>\n",
       "      <td>-9.12</td>\n",
       "      <td>-3.80</td>\n",
       "      <td>bus</td>\n",
       "    </tr>\n",
       "  </tbody>\n",
       "</table>\n",
       "</div>"
      ],
      "text/plain": [
       "                                       user               timestamp     x  \\\n",
       "0  a2d80ed662f34d32951eb1c6ed076c313e358b73 2018-06-04 16:26:55.053  0.78   \n",
       "1  a2d80ed662f34d32951eb1c6ed076c313e358b73 2018-06-04 16:26:55.111  0.79   \n",
       "2  a2d80ed662f34d32951eb1c6ed076c313e358b73 2018-06-04 16:26:55.169  0.80   \n",
       "3  a2d80ed662f34d32951eb1c6ed076c313e358b73 2018-06-04 16:26:55.228  0.78   \n",
       "4  a2d80ed662f34d32951eb1c6ed076c313e358b73 2018-06-04 16:26:55.286  0.83   \n",
       "\n",
       "      y     z class  \n",
       "0 -9.13 -3.74   bus  \n",
       "1 -9.11 -3.75   bus  \n",
       "2 -9.12 -3.75   bus  \n",
       "3 -9.14 -3.76   bus  \n",
       "4 -9.12 -3.80   bus  "
      ]
     },
     "execution_count": 2,
     "metadata": {},
     "output_type": "execute_result"
    }
   ],
   "source": [
    "# Read input file\n",
    "inp = pd.read_csv(r\"C:\\Users\\91859\\Desktop\\cleaned.csv\")\n",
    "inp[\"timestamp\"]=pd.to_datetime(inp.timestamp)\n",
    "inp.head()"
   ]
  },
  {
   "cell_type": "markdown",
   "metadata": {},
   "source": [
    "### Question 1: Input file statistics"
   ]
  },
  {
   "cell_type": "code",
   "execution_count": 3,
   "metadata": {},
   "outputs": [
    {
     "name": "stdout",
     "output_type": "stream",
     "text": [
      "The number of rows in the input file: 5653053\n",
      "The number of columns in the input file: 6\n",
      "Column names in the input file: ['user', 'timestamp', 'x', 'y', 'z', 'class']\n",
      "Number of unique users: 32\n",
      "Wall time: 546 ms\n"
     ]
    }
   ],
   "source": [
    "%%time\n",
    "print('The number of rows in the input file:',inp.shape[0])\n",
    "print('The number of columns in the input file:',inp.shape[1])\n",
    "print('Column names in the input file:',list(inp))\n",
    "print('Number of unique users:', inp['user'].nunique())"
   ]
  },
  {
   "cell_type": "markdown",
   "metadata": {},
   "source": [
    "### Question 2: Unique sequences of each class (mode)"
   ]
  },
  {
   "cell_type": "code",
   "execution_count": 4,
   "metadata": {},
   "outputs": [
    {
     "name": "stdout",
     "output_type": "stream",
     "text": [
      "Wall time: 5.34 s\n"
     ]
    },
    {
     "data": {
      "text/html": [
       "<div>\n",
       "<style scoped>\n",
       "    .dataframe tbody tr th:only-of-type {\n",
       "        vertical-align: middle;\n",
       "    }\n",
       "\n",
       "    .dataframe tbody tr th {\n",
       "        vertical-align: top;\n",
       "    }\n",
       "\n",
       "    .dataframe thead th {\n",
       "        text-align: right;\n",
       "    }\n",
       "</style>\n",
       "<table border=\"1\" class=\"dataframe\">\n",
       "  <thead>\n",
       "    <tr style=\"text-align: right;\">\n",
       "      <th></th>\n",
       "      <th>user</th>\n",
       "      <th>class</th>\n",
       "      <th>seq_gen</th>\n",
       "    </tr>\n",
       "  </thead>\n",
       "  <tbody>\n",
       "    <tr>\n",
       "      <td>0</td>\n",
       "      <td>a2d80ed662f34d32951eb1c6ed076c313e358b73</td>\n",
       "      <td>bus</td>\n",
       "      <td>13</td>\n",
       "    </tr>\n",
       "    <tr>\n",
       "      <td>1</td>\n",
       "      <td>a526f3566e9c9024dfa7378eb4291d787a09fd37</td>\n",
       "      <td>car</td>\n",
       "      <td>14</td>\n",
       "    </tr>\n",
       "    <tr>\n",
       "      <td>2</td>\n",
       "      <td>a526f3566e9c9024dfa7378eb4291d787a09fd37</td>\n",
       "      <td>walk</td>\n",
       "      <td>19</td>\n",
       "    </tr>\n",
       "    <tr>\n",
       "      <td>3</td>\n",
       "      <td>a59868c6eb3645eedbb343ce8c336ec6f2ef2324</td>\n",
       "      <td>bike</td>\n",
       "      <td>36</td>\n",
       "    </tr>\n",
       "    <tr>\n",
       "      <td>4</td>\n",
       "      <td>a59868c6eb3645eedbb343ce8c336ec6f2ef2324</td>\n",
       "      <td>bus</td>\n",
       "      <td>18</td>\n",
       "    </tr>\n",
       "    <tr>\n",
       "      <td>...</td>\n",
       "      <td>...</td>\n",
       "      <td>...</td>\n",
       "      <td>...</td>\n",
       "    </tr>\n",
       "    <tr>\n",
       "      <td>65</td>\n",
       "      <td>f5edd999397145a2ec1b244226fc83f99631760c</td>\n",
       "      <td>walk</td>\n",
       "      <td>13</td>\n",
       "    </tr>\n",
       "    <tr>\n",
       "      <td>66</td>\n",
       "      <td>f7ae1ce141c26db40ea8b090fb568a0c965310aa</td>\n",
       "      <td>car</td>\n",
       "      <td>2</td>\n",
       "    </tr>\n",
       "    <tr>\n",
       "      <td>67</td>\n",
       "      <td>faae5be800be2dfa897eea0bd2e5988cd53c4ec0</td>\n",
       "      <td>bike</td>\n",
       "      <td>136</td>\n",
       "    </tr>\n",
       "    <tr>\n",
       "      <td>68</td>\n",
       "      <td>faae5be800be2dfa897eea0bd2e5988cd53c4ec0</td>\n",
       "      <td>car</td>\n",
       "      <td>10</td>\n",
       "    </tr>\n",
       "    <tr>\n",
       "      <td>69</td>\n",
       "      <td>faae5be800be2dfa897eea0bd2e5988cd53c4ec0</td>\n",
       "      <td>walk</td>\n",
       "      <td>35</td>\n",
       "    </tr>\n",
       "  </tbody>\n",
       "</table>\n",
       "<p>70 rows × 3 columns</p>\n",
       "</div>"
      ],
      "text/plain": [
       "                                        user class  seq_gen\n",
       "0   a2d80ed662f34d32951eb1c6ed076c313e358b73   bus       13\n",
       "1   a526f3566e9c9024dfa7378eb4291d787a09fd37   car       14\n",
       "2   a526f3566e9c9024dfa7378eb4291d787a09fd37  walk       19\n",
       "3   a59868c6eb3645eedbb343ce8c336ec6f2ef2324  bike       36\n",
       "4   a59868c6eb3645eedbb343ce8c336ec6f2ef2324   bus       18\n",
       "..                                       ...   ...      ...\n",
       "65  f5edd999397145a2ec1b244226fc83f99631760c  walk       13\n",
       "66  f7ae1ce141c26db40ea8b090fb568a0c965310aa   car        2\n",
       "67  faae5be800be2dfa897eea0bd2e5988cd53c4ec0  bike      136\n",
       "68  faae5be800be2dfa897eea0bd2e5988cd53c4ec0   car       10\n",
       "69  faae5be800be2dfa897eea0bd2e5988cd53c4ec0  walk       35\n",
       "\n",
       "[70 rows x 3 columns]"
      ]
     },
     "execution_count": 4,
     "metadata": {},
     "output_type": "execute_result"
    }
   ],
   "source": [
    "%%time\n",
    "#Sort input based on user, class, and timestamp\n",
    "#reset_index is important because otherwise shift will not work properly. \n",
    "#Shift works with index and not not between consecutive rows\n",
    "sorted_inp=inp.sort_values(['user','timestamp'],ascending=[True,True]).reset_index(drop=True)\n",
    "\n",
    "#Obtain time difference between two consecutive rows in milliseconds\n",
    "sorted_inp['timediff'] = (inp[\"timestamp\"]-inp[\"timestamp\"].shift(1)).astype('timedelta64[ms]')\n",
    "\n",
    "#Output True when time difference is more 10 seconds i.e., 10,000 ms\n",
    "sorted_inp['time_bool'] = False\n",
    "sorted_inp.loc[sorted_inp['timediff']>10000,'time_bool'] = True \n",
    "\n",
    "#Output True when user changes between consecutive rows\n",
    "sorted_inp['user_bool'] = False\n",
    "sorted_inp.loc[sorted_inp['user'] != sorted_inp['user'].shift(1),'user_bool'] = True\n",
    "\n",
    "#Output True when class changes between consecutive rows\n",
    "sorted_inp['class_bool'] = False\n",
    "sorted_inp.loc[sorted_inp['class'] != sorted_inp['class'].shift(1),'class_bool'] = True\n",
    "\n",
    "#Merge all true/false columns (user, time, class) and output True if any one of them is True\n",
    "sorted_inp[\"any_bool\"] = sorted_inp[['time_bool', 'user_bool', 'class_bool']].any(axis='columns')\n",
    "\n",
    "#Create column (seq_gen) and assign 1 when any_bool = True and then cumulative sum to get unique sequence ID\n",
    "sorted_inp['seq_gen'] = 0\n",
    "sorted_inp.loc[sorted_inp['any_bool'],'seq_gen'] = 1\n",
    "sorted_inp['seq_gen'] = sorted_inp['seq_gen'].cumsum()\n",
    "\n",
    "#Generate number of unique sequence of each class\n",
    "uniq_seq = sorted_inp.loc[sorted_inp['any_bool']==True,:]\n",
    "seq_count = pd.DataFrame(uniq_seq.groupby(['user','class'])['seq_gen'].count()).reset_index()\n",
    "\n",
    "seq_count\n",
    "#sorted_inp.loc[sorted_inp['any_bool']==True,:].head()\n",
    "#sorted_inp.head()\n",
    "#sorted_inp.to_csv('sorted_input.csv',index=False)"
   ]
  },
  {
   "cell_type": "markdown",
   "metadata": {},
   "source": [
    "### Question 3 and 4: Time window partition and feature extraction"
   ]
  },
  {
   "cell_type": "code",
   "execution_count": 5,
   "metadata": {},
   "outputs": [
    {
     "name": "stdout",
     "output_type": "stream",
     "text": [
      "Total number of window partitions: 40655\n",
      "Total number of window partitions of duration close to 5 seconds 29305\n",
      "Wall time: 7min 35s\n"
     ]
    }
   ],
   "source": [
    "%%time\n",
    "all_seq_agg = pd.DataFrame([]) #Create empty dataframe to store features\n",
    "\n",
    "for seq in range(1,sorted_inp['seq_gen'].max()+1): #Iterate over all unique sequences\n",
    "        \n",
    "    seq_i = sorted_inp.loc[sorted_inp['seq_gen'] == seq]# Filter data for the given sequence \n",
    "    seq_i = seq_i[['user','timestamp','x','y','z','class','timediff','seq_gen']].reset_index() # Select reqd columns\n",
    "    \n",
    "    # Generate window partition numbers    \n",
    "    ## Put value of timediff to be zero for row 1 of each seq since it can be very large because of subtraction from a different window\n",
    "    seq_i.loc[0,'timediff'] = 0\n",
    "    ## Generate cumulative sum for the time difference and divide by 5000 ms (5 secs). The quotient gives window number\n",
    "    seq_i['cum_time'] = seq_i['timediff'].cumsum()\n",
    "    seq_i['window'] = seq_i['cum_time'].div(5000).apply(np.floor)\n",
    "    \n",
    "    # Generate features for each window partition using groupby and aggregate\n",
    "    seq_i_agg = seq_i.groupby(['user','class','window']).agg({'timestamp':['min','max','count'],'seq_gen':['min'],\\\n",
    "        'x':['min','max','mean','std'],'y':['min','max','mean','std'],'z':['min','max','mean','std']}).reset_index()\n",
    "    \n",
    "    # Append data features for the given sequence (with all its windows to the overall features dataframe)\n",
    "    all_seq_agg = all_seq_agg.append(seq_i_agg)\n",
    "    \n",
    "# Merge column names generated in different levels due to groupby and aggregate     \n",
    "all_seq_agg.columns = ['%s%s' % (a, '_%s' % b if b else '') for a, b in all_seq_agg.columns]\n",
    "\n",
    "# Determine time duration of each window and drop those which are significantly less than 5 secs (chosen as 4.5 secs) \n",
    "all_seq_agg['window_time'] =  (all_seq_agg[\"timestamp_max\"]-all_seq_agg[\"timestamp_min\"]).astype('timedelta64[ms]')/1000\n",
    "seq_reqd = all_seq_agg.loc[all_seq_agg['window_time']>4.5,:]\n",
    "\n",
    "print('Total number of window partitions:',all_seq_agg.shape[0])\n",
    "print('Total number of window partitions of duration close to 5 seconds',seq_reqd.shape[0])\n",
    "\n",
    "#all_seq_agg.head()"
   ]
  },
  {
   "cell_type": "markdown",
   "metadata": {},
   "source": [
    "### Output of Question 3: Number of window partitions of each transportation mode"
   ]
  },
  {
   "cell_type": "code",
   "execution_count": 6,
   "metadata": {},
   "outputs": [
    {
     "data": {
      "text/html": [
       "<div>\n",
       "<style scoped>\n",
       "    .dataframe tbody tr th:only-of-type {\n",
       "        vertical-align: middle;\n",
       "    }\n",
       "\n",
       "    .dataframe tbody tr th {\n",
       "        vertical-align: top;\n",
       "    }\n",
       "\n",
       "    .dataframe thead th {\n",
       "        text-align: right;\n",
       "    }\n",
       "</style>\n",
       "<table border=\"1\" class=\"dataframe\">\n",
       "  <thead>\n",
       "    <tr style=\"text-align: right;\">\n",
       "      <th></th>\n",
       "      <th>class</th>\n",
       "      <th>window</th>\n",
       "    </tr>\n",
       "  </thead>\n",
       "  <tbody>\n",
       "    <tr>\n",
       "      <td>0</td>\n",
       "      <td>bike</td>\n",
       "      <td>1587</td>\n",
       "    </tr>\n",
       "    <tr>\n",
       "      <td>1</td>\n",
       "      <td>bus</td>\n",
       "      <td>7822</td>\n",
       "    </tr>\n",
       "    <tr>\n",
       "      <td>2</td>\n",
       "      <td>car</td>\n",
       "      <td>15342</td>\n",
       "    </tr>\n",
       "    <tr>\n",
       "      <td>3</td>\n",
       "      <td>e-bike</td>\n",
       "      <td>40</td>\n",
       "    </tr>\n",
       "    <tr>\n",
       "      <td>4</td>\n",
       "      <td>train</td>\n",
       "      <td>553</td>\n",
       "    </tr>\n",
       "    <tr>\n",
       "      <td>5</td>\n",
       "      <td>walk</td>\n",
       "      <td>3961</td>\n",
       "    </tr>\n",
       "  </tbody>\n",
       "</table>\n",
       "</div>"
      ],
      "text/plain": [
       "    class  window\n",
       "0    bike    1587\n",
       "1     bus    7822\n",
       "2     car   15342\n",
       "3  e-bike      40\n",
       "4   train     553\n",
       "5    walk    3961"
      ]
     },
     "execution_count": 6,
     "metadata": {},
     "output_type": "execute_result"
    }
   ],
   "source": [
    "# Group by the class and find out the counts (each row is already corresponds to a unique window) \n",
    "window_count = pd.DataFrame(seq_reqd.groupby(['class'])['window'].count()).reset_index()\n",
    "window_count"
   ]
  },
  {
   "cell_type": "markdown",
   "metadata": {},
   "source": [
    "### Question 4: Visualizations of features"
   ]
  },
  {
   "cell_type": "code",
   "execution_count": 7,
   "metadata": {},
   "outputs": [
    {
     "data": {
      "image/png": "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\n",
      "text/plain": [
       "<Figure size 864x864 with 12 Axes>"
      ]
     },
     "metadata": {
      "needs_background": "light"
     },
     "output_type": "display_data"
    }
   ],
   "source": [
    "#Visualizations of features obtained from x axis data (Removing the outliers for easier interpretation)\n",
    "fig, axs = plt.subplots(6,2, figsize=(12,12))\n",
    "xmin_plot = seq_reqd.boxplot(column=['x_min'], by=['class'], showfliers=False, ax = axs[0,0])\n",
    "xmax_plot = seq_reqd.boxplot(column=['x_max'], by=['class'], showfliers=False, ax = axs[0,1])\n",
    "xmean_plot = seq_reqd.boxplot(column=['x_mean'], by=['class'], showfliers=False, ax = axs[1,0])\n",
    "xstd_plot = seq_reqd.boxplot(column=['x_std'], by=['class'], showfliers=False, ax = axs[1,1])\n",
    "ymin_plot = seq_reqd.boxplot(column=['y_min'], by=['class'], showfliers=False, ax = axs[2,0])\n",
    "ymax_plot = seq_reqd.boxplot(column=['y_max'], by=['class'], showfliers=False, ax = axs[2,1])\n",
    "ymean_plot = seq_reqd.boxplot(column=['y_mean'], by=['class'], showfliers=False, ax = axs[3,0])\n",
    "ystd_plot = seq_reqd.boxplot(column=['y_std'], by=['class'], showfliers=False, ax = axs[3,1])\n",
    "zmin_plot = seq_reqd.boxplot(column=['z_min'], by=['class'], showfliers=False, ax = axs[4,0])\n",
    "zmax_plot = seq_reqd.boxplot(column=['z_max'], by=['class'], showfliers=False, ax = axs[4,1])\n",
    "zmean_plot = seq_reqd.boxplot(column=['z_mean'], by=['class'], showfliers=False, ax = axs[5,0])\n",
    "zstd_plot = seq_reqd.boxplot(column=['z_std'], by=['class'], showfliers=False, ax = axs[5,1])"
   ]
  },
  {
   "cell_type": "markdown",
   "metadata": {},
   "source": [
    "### Question 5: Balancing of dataset"
   ]
  },
  {
   "cell_type": "code",
   "execution_count": 8,
   "metadata": {},
   "outputs": [
    {
     "data": {
      "text/html": [
       "<div>\n",
       "<style scoped>\n",
       "    .dataframe tbody tr th:only-of-type {\n",
       "        vertical-align: middle;\n",
       "    }\n",
       "\n",
       "    .dataframe tbody tr th {\n",
       "        vertical-align: top;\n",
       "    }\n",
       "\n",
       "    .dataframe thead th {\n",
       "        text-align: right;\n",
       "    }\n",
       "</style>\n",
       "<table border=\"1\" class=\"dataframe\">\n",
       "  <thead>\n",
       "    <tr style=\"text-align: right;\">\n",
       "      <th></th>\n",
       "      <th>class</th>\n",
       "      <th>window</th>\n",
       "    </tr>\n",
       "  </thead>\n",
       "  <tbody>\n",
       "    <tr>\n",
       "      <td>0</td>\n",
       "      <td>bike</td>\n",
       "      <td>40</td>\n",
       "    </tr>\n",
       "    <tr>\n",
       "      <td>1</td>\n",
       "      <td>bus</td>\n",
       "      <td>40</td>\n",
       "    </tr>\n",
       "    <tr>\n",
       "      <td>2</td>\n",
       "      <td>car</td>\n",
       "      <td>40</td>\n",
       "    </tr>\n",
       "    <tr>\n",
       "      <td>3</td>\n",
       "      <td>e-bike</td>\n",
       "      <td>40</td>\n",
       "    </tr>\n",
       "    <tr>\n",
       "      <td>4</td>\n",
       "      <td>train</td>\n",
       "      <td>40</td>\n",
       "    </tr>\n",
       "    <tr>\n",
       "      <td>5</td>\n",
       "      <td>walk</td>\n",
       "      <td>40</td>\n",
       "    </tr>\n",
       "  </tbody>\n",
       "</table>\n",
       "</div>"
      ],
      "text/plain": [
       "    class  window\n",
       "0    bike      40\n",
       "1     bus      40\n",
       "2     car      40\n",
       "3  e-bike      40\n",
       "4   train      40\n",
       "5    walk      40"
      ]
     },
     "execution_count": 8,
     "metadata": {},
     "output_type": "execute_result"
    }
   ],
   "source": [
    "#creating an empty dataframe for final dataset\n",
    "seq_final=pd.DataFrame()\n",
    "\n",
    "#minimum number of time window for any class\n",
    "min_window = min(list(window_count.window))\n",
    "\n",
    "#choosing and appending the min time number of windows for each class to seq_final randomly\n",
    "for i in seq_reqd['class'].unique():\n",
    "    seq_final=seq_final.append(seq_reqd.groupby(['class']).get_group(i).sample(n=min_window))\n",
    "\n",
    "# Group by the class and find out the counts (each row is already corresponds to a unique window) \n",
    "window_count_final = pd.DataFrame(seq_final.groupby(['class'])['window'].count()).reset_index()\n",
    "window_count_final"
   ]
  },
  {
   "cell_type": "markdown",
   "metadata": {},
   "source": [
    "### Question 6: Splitting of dataset"
   ]
  },
  {
   "cell_type": "code",
   "execution_count": 9,
   "metadata": {},
   "outputs": [],
   "source": [
    "# importing necessary libraries \n",
    "from sklearn import datasets \n",
    "from sklearn.preprocessing import OneHotEncoder\n",
    "from keras.utils import np_utils\n",
    "from sklearn.compose import ColumnTransformer\n",
    "from sklearn.metrics import confusion_matrix \n",
    "from sklearn.model_selection import train_test_split\n",
    "from sklearn.preprocessing import LabelEncoder"
   ]
  },
  {
   "cell_type": "code",
   "execution_count": 13,
   "metadata": {},
   "outputs": [
    {
     "name": "stdout",
     "output_type": "stream",
     "text": [
      "no. of data points in training dataset = 144\n",
      "no. of data points in validation dataset = 48\n",
      "no. of data points in test dataset = 48\n"
     ]
    }
   ],
   "source": [
    "#input selection\n",
    "X = seq_final[['x_min','x_max','x_mean','x_std','y_min','y_max','y_mean','y_std','z_min','z_max','z_mean','z_std']]\n",
    "#output selection\n",
    "y = seq_final['class']\n",
    "\n",
    "# convert to one hot encoded\n",
    "encoder = LabelEncoder()\n",
    "encoder.fit(y)\n",
    "encoded_y = encoder.transform(y)\n",
    "y_one_hot = np_utils.to_categorical(encoded_y)\n",
    "\n",
    "#dividing input and output into train data and test data\n",
    "X_train, X_test, y_train, y_test = train_test_split(X, y, test_size=0.2, random_state=1)\n",
    "\n",
    "#dividing the train data into train data and validation data\n",
    "X_train, X_val, y_train, y_val = train_test_split(X_train, y_train, test_size=0.25, random_state=1) # 0.25 x 0.8 = 0.2\n",
    "\n",
    "print('no. of data points in training dataset =', len(X_train))\n",
    "print('no. of data points in validation dataset =', len(X_val))\n",
    "print('no. of data points in test dataset =', len(X_test))"
   ]
  },
  {
   "cell_type": "markdown",
   "metadata": {},
   "source": [
    "### Question 7: Training Models"
   ]
  },
  {
   "cell_type": "code",
   "execution_count": 11,
   "metadata": {},
   "outputs": [],
   "source": [
    "from sklearn.linear_model import LogisticRegression\n",
    "from sklearn.svm import SVC\n",
    "from sklearn.neural_network import MLPClassifier\n",
    "\n",
    "from sklearn.model_selection import cross_val_score\n",
    "from sklearn.metrics import precision_score\n",
    "import warnings\n",
    "warnings.filterwarnings(\"ignore\")\n"
   ]
  },
  {
   "cell_type": "markdown",
   "metadata": {},
   "source": [
    "##### Logistic Regression"
   ]
  },
  {
   "cell_type": "code",
   "execution_count": 14,
   "metadata": {},
   "outputs": [
    {
     "name": "stdout",
     "output_type": "stream",
     "text": [
      "Accuracy of the model on validation set is 66.50132275132275 %\n",
      "Accuracy of the model on test set is 58.333333333333336 %\n"
     ]
    }
   ],
   "source": [
    "#applying logistic regression\n",
    "log_reg = LogisticRegression().fit(X_train, y_train)\n",
    "\n",
    "#calculating accuracy\n",
    "accuracy_log_reg_val = cross_val_score(log_reg, X_val, y_val) * 100\n",
    "accuracy_log_reg_test = log_reg.score(X_test, y_test) * 100 \n",
    "\n",
    "#displaying accuracy\n",
    "print(\"Accuracy of the model on validation set is\",accuracy_log_reg_val.mean(),'%')\n",
    "print(\"Accuracy of the model on test set is\",accuracy_log_reg_test,'%')"
   ]
  },
  {
   "cell_type": "markdown",
   "metadata": {},
   "source": [
    "##### SVM"
   ]
  },
  {
   "cell_type": "code",
   "execution_count": 15,
   "metadata": {},
   "outputs": [
    {
     "name": "stdout",
     "output_type": "stream",
     "text": [
      "Accuracy of the model on validation set is 47.61904761904762 %\n",
      "Accuracy of the model on test set is 33.33333333333333 %\n"
     ]
    }
   ],
   "source": [
    "#applying SVM\n",
    "svm = SVC(kernel='rbf', C = 1.0, gamma = 0.5, random_state=0).fit(X_train, y_train)\n",
    "\n",
    "#calculating accuracy\n",
    "accuracy_svm_val = cross_val_score(svm, X_val, y_val) * 100\n",
    "accuracy_svm_test = svm.score(X_test, y_test) * 100 \n",
    "\n",
    "#displaying accuracy\n",
    "print(\"Accuracy of the model on validation set is\",accuracy_svm_val.mean(),'%')\n",
    "print(\"Accuracy of the model on test set is\",accuracy_svm_test,'%')"
   ]
  },
  {
   "cell_type": "markdown",
   "metadata": {},
   "source": [
    "##### ANN"
   ]
  },
  {
   "cell_type": "code",
   "execution_count": 16,
   "metadata": {},
   "outputs": [
    {
     "name": "stdout",
     "output_type": "stream",
     "text": [
      "Accuracy of the model on validation set is 80.45634920634922 %\n",
      "Accuracy of the model on test set is 77.08333333333334 %\n"
     ]
    }
   ],
   "source": [
    "#applying ANN\n",
    "ann = MLPClassifier(solver='lbfgs', alpha=1e-5, hidden_layer_sizes=(100,), random_state=1).fit(X_train, y_train.values.ravel())\n",
    "\n",
    "#calculating accuracy\n",
    "accuracy_ann_val = cross_val_score(ann, X_val, y_val) * 100\n",
    "accuracy_ann_test = ann.score(X_test, y_test) * 100 \n",
    "\n",
    "#displaying accuracy\n",
    "print(\"Accuracy of the model on validation set is\",accuracy_ann_val.mean(),'%')\n",
    "print(\"Accuracy of the model on test set is\",accuracy_ann_test,'%')"
   ]
  },
  {
   "cell_type": "code",
   "execution_count": null,
   "metadata": {},
   "outputs": [],
   "source": []
  }
 ],
 "metadata": {
  "celltoolbar": "Raw Cell Format",
  "kernelspec": {
   "display_name": "Python 3",
   "language": "python",
   "name": "python3"
  },
  "language_info": {
   "codemirror_mode": {
    "name": "ipython",
    "version": 3
   },
   "file_extension": ".py",
   "mimetype": "text/x-python",
   "name": "python",
   "nbconvert_exporter": "python",
   "pygments_lexer": "ipython3",
   "version": "3.7.1"
  }
 },
 "nbformat": 4,
 "nbformat_minor": 2
}
